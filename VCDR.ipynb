{
 "metadata": {
  "language_info": {
   "codemirror_mode": {
    "name": "ipython",
    "version": 3
   },
   "file_extension": ".py",
   "mimetype": "text/x-python",
   "name": "python",
   "nbconvert_exporter": "python",
   "pygments_lexer": "ipython3",
   "version": "3.8.2-final"
  },
  "orig_nbformat": 2,
  "kernelspec": {
   "name": "Python 3.8.2 32-bit",
   "display_name": "Python 3.8.2 32-bit",
   "metadata": {
    "interpreter": {
     "hash": "c31863a4a12078ab861b90de1e35600f12219085958b57f3922fc5d8958f4a1e"
    }
   }
  }
 },
 "nbformat": 4,
 "nbformat_minor": 2,
 "cells": [
  {
   "cell_type": "code",
   "execution_count": 7,
   "metadata": {},
   "outputs": [],
   "source": [
    "import cv2\n",
    "import numpy as np\n",
    "from matplotlib import pyplot as plt"
   ]
  },
  {
   "cell_type": "code",
   "execution_count": 39,
   "metadata": {},
   "outputs": [],
   "source": [
    "class GlaucomaIdentifier:\n",
    "    def __init__(self, img, discDiameter=1, cupDiameter=0):\n",
    "        self.image = img\n",
    "        self.discDiameter = discDiameter\n",
    "        self.cupDiameter = cupDiameter\n",
    "        \n",
    "    def getYComponent(self,pixel):\n",
    "        #Converts RGB pixel to YCrcb and gets the Y component\n",
    "        #@param pixel\n",
    "        #@return Y component of the pixel\n",
    "        blue, green, red = pixel\n",
    "        #print(\"pixel\"+str(pixel))\n",
    "        yComponent = ( (red*0.299) + (green*0.587) + (blue*0.144) )\n",
    "        #print(yComponent)\n",
    "        return yComponent\n",
    "    \n",
    "    def getVCDR(self):\n",
    "        #Calculates Vertical Cup to Disc ratio (VCDR)\n",
    "        #@return VCDR\n",
    "        vcdr = float(self.cupDiameter) / float(self.discDiameter)\n",
    "        vcdr = np.around(vcdr * 100.00)/100.00\n",
    "        return vcdr\n",
    "    \n",
    "    def getCupImage(self):\n",
    "        #Segments cup region, changing all its pixels to black and calculates cup diameter\n",
    "        #@return Image with cup region segmented\n",
    "        cupImage = GlaucomaIdentifier(np.copy(self.image))\n",
    "        minCup = 99999\n",
    "        maxCup = -1\n",
    "        height, width, _ = cupImage.image.shape\n",
    "\n",
    "        for j in range(height):\n",
    "            for i in range(width):\n",
    "                if(cupImage.getYComponent(cupImage.image[j][i]) > 200):\n",
    "                    #print(\"yeah\")\n",
    "                    cupImage.image[j][i] = (0,0,0)\n",
    "                    if(j < minCup):\n",
    "                        minCup = j\n",
    "                    if(j > maxCup):\n",
    "                        maxCup = j\n",
    "                    #print(cupImage.image[j][i])\n",
    "        #cv2.imshow(\"cupImage\",cupImage.image)           \n",
    "        print(\"Max cup = \" + str(maxCup) +\", Min Cup = \"+ str(minCup))\n",
    "        self.cupDiameter = maxCup - minCup\n",
    "        return cupImage.image\n",
    "\n",
    "    def getDiscImage(self):\n",
    "        #Segments disc region, changing all its pixels to white and the others to black, and calculates cup diameter\n",
    "        #@return Image with disc region segmented\n",
    "        discImage = GlaucomaIdentifier(np.copy(self.image))\n",
    "        minDisc = 99999\n",
    "        maxDisc = -1\n",
    "        height, width, _ = discImage.image.shape\n",
    "\n",
    "        for j in range(height):\n",
    "            for i in range(width):\n",
    "                if(discImage.image[j][i][2] >= 230):\n",
    "                    #print(\"yeah\")\n",
    "                    discImage.image[j][i] = (255,255,255)\n",
    "                    if(j < minDisc):\n",
    "                        minDisc = j\n",
    "                    if(j > maxDisc):\n",
    "                        maxDisc = j\n",
    "                    #print(cupImage.image[j][i])\n",
    "                else:\n",
    "                    discImage.image[j][i] = (0,0,0)\n",
    "        #cv2.imshow(\"cupImage\",cupImage.image)           \n",
    "        print(\"Max Disc = \" + str(maxDisc) +\", Min Disc = \"+ str(minDisc))\n",
    "        self.cupDiameter = maxDisc - minDisc\n",
    "        return discImage.image\n",
    "\n",
    "    def getCupToDiscImage(self):\n",
    "        cupDiscImage = np.copy(self.getDiscImage())\n",
    "        cupImage = np.copy(self.getCupImage())\n",
    "        height, width,_ = cupDiscImage.shape\n",
    "\n",
    "        for j in range(height):\n",
    "            for i in range(width):\n",
    "                if(np.any(cupDiscImage[j][i] ==  255)):\n",
    "                    if(np.any(cupImage[j][i] ==  0)):\n",
    "                        cupDiscImage[j][i] = (0,0,0)\n",
    "\n",
    "        return cupDiscImage\n"
   ]
  },
  {
   "cell_type": "code",
   "execution_count": 40,
   "metadata": {
    "tags": []
   },
   "outputs": [
    {
     "output_type": "stream",
     "name": "stdout",
     "text": "(2336, 3504, 3)\n(360, 480, 3)\nMax Disc = 359, Min Disc = 58\nMax cup = -1, Min Cup = 99999\nCup Diameter = -100000\nsampleAntes[0 1 1]\npixelAntes[0 2 0]\n[0 2 0]\n(0, 0, 0)\nsampleDepois[0 0 0]\ndaora\npixelDepois(0, 0, 0)\n"
    }
   ],
   "source": [
    "sample = cv2.imread(\"01_g.jpg\")\n",
    "resized_img = cv2.resize(sample,(480,360))\n",
    "im = GlaucomaIdentifier(np.copy(resized_img))\n",
    "#print(im.getYComponent(1,1,1))\n",
    "#print(im.getVCDR())\n",
    "\n",
    "print(sample.shape)\n",
    "print(im.image.shape)\n",
    "\n",
    "cupImage = im.getCupToDiscImage()\n",
    "print(\"Cup Diameter = \"+str(im.cupDiameter))\n",
    "pixel = sample[0][0]\n",
    "print(\"sampleAntes\"+str(resized_img[0][0]))\n",
    "print(\"pixelAntes\"+str(pixel))\n",
    "print(pixel)\n",
    "pixel = (0,0,0)\n",
    "resized_img[0][0] = (0,0,0)\n",
    "print(pixel)\n",
    "print(\"sampleDepois\"+str(resized_img[0][0]))\n",
    "if( np.any(resized_img[0][0] == 0) ):\n",
    "    print(\"daora\")\n",
    "print(\"pixelDepois\"+str(pixel))\n",
    "cv2.imshow(\"original\",resized_img)\n",
    "cv2.imshow(\"cupImage\",cupImage)\n",
    "#print(cupImage == sample)\n",
    "# waits for user to press any key \n",
    "# (this is necessary to avoid Python kernel form crashing) \n",
    "cv2.waitKey(0)\n",
    "# closing all open windows \n",
    "cv2.destroyAllWindows()"
   ]
  },
  {
   "cell_type": "code",
   "execution_count": null,
   "metadata": {},
   "outputs": [],
   "source": []
  }
 ]
}