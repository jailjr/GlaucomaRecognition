{
 "metadata": {
  "language_info": {
   "codemirror_mode": {
    "name": "ipython",
    "version": 3
   },
   "file_extension": ".py",
   "mimetype": "text/x-python",
   "name": "python",
   "nbconvert_exporter": "python",
   "pygments_lexer": "ipython3",
   "version": "3.8.2-final"
  },
  "orig_nbformat": 2,
  "kernelspec": {
   "name": "python38232bitbfde1a24cd2949f9a984d96d50aac94c",
   "display_name": "Python 3.8.2 32-bit"
  }
 },
 "nbformat": 4,
 "nbformat_minor": 2,
 "cells": [
  {
   "cell_type": "code",
   "execution_count": 2,
   "metadata": {},
   "outputs": [],
   "source": [
    "import cv2\n",
    "import numpy as np\n",
    "from matplotlib import pyplot as plt"
   ]
  },
  {
   "cell_type": "code",
   "execution_count": 3,
   "metadata": {},
   "outputs": [],
   "source": [
    "def pixelToBin(img, width):\n",
    "    lst = []\n",
    "    for i in range(img.shape[0]):\n",
    "        for j in range(img.shape[1]):\n",
    "            #print(img[i][j],np.binary_repr(img[i][j] ,width=width))\n",
    "            lst.append(np.binary_repr(img[i][j] ,width=width)) # width = no. of bits\n",
    "\n",
    "    #print(lst)\n",
    "    return lst"
   ]
  },
  {
   "cell_type": "code",
   "execution_count": 16,
   "metadata": {},
   "outputs": [],
   "source": [
    "def bitPlaneSlicing(img, width):\n",
    "    slicedList = []\n",
    "    lst = pixelToBin(img, width)\n",
    "    for planeNumber in range(width):\n",
    "        #print(planeNumber, np.power(2,planeNumber))\n",
    "        slicedList.append( (np.array([int(i[width -planeNumber - 1]) for i in lst],dtype = np.uint8) * np.power(2,planeNumber) ).reshape(img.shape[0],img.shape[1]) )\n",
    "    \n",
    "    return slicedList "
   ]
  },
  {
   "cell_type": "code",
   "execution_count": 20,
   "metadata": {},
   "outputs": [],
   "source": [
    "def get_pixel(img, center, x, y): \n",
    "      \n",
    "    new_value = 0\n",
    "      \n",
    "    try: \n",
    "        # If local neighbourhood pixel  \n",
    "        # value is greater than or equal \n",
    "        # to center pixel values then  \n",
    "        # set it to 1 \n",
    "        if img[x][y] >= center: \n",
    "            new_value = 1\n",
    "              \n",
    "    except: \n",
    "        # Exception is required when  \n",
    "        # neighbourhood value of a center \n",
    "        # pixel value is null i.e. values \n",
    "        # present at boundaries. \n",
    "        pass\n",
    "      \n",
    "    return new_value "
   ]
  },
  {
   "cell_type": "code",
   "execution_count": null,
   "metadata": {},
   "outputs": [],
   "source": [
    "# Function for calculating LBP \n",
    "def lbp_calculated_pixel(img, line, col): \n",
    "   \n",
    "    center = img[line][col] \n",
    "   \n",
    "    val_ar = [] \n",
    "      \n",
    "    # top_left \n",
    "    val_ar.append(get_pixel(img, center, line-1, col-1)) \n",
    "      \n",
    "    # top \n",
    "    val_ar.append(get_pixel(img, center, line-1, col)) \n",
    "      \n",
    "    # top_right \n",
    "    val_ar.append(get_pixel(img, center, line-1, col + 1)) \n",
    "      \n",
    "    # right \n",
    "    val_ar.append(get_pixel(img, center, line, col + 1)) \n",
    "      \n",
    "    # bottom_right \n",
    "    val_ar.append(get_pixel(img, center, line + 1, col + 1)) \n",
    "      \n",
    "    # bottom \n",
    "    val_ar.append(get_pixel(img, center, line + 1, col)) \n",
    "      \n",
    "    # bottom_left \n",
    "    val_ar.append(get_pixel(img, center, line + 1, col-1)) \n",
    "      \n",
    "    # left \n",
    "    val_ar.append(get_pixel(img, center, line, col-1)) \n",
    "       \n",
    "    # Now, we need to convert binary \n",
    "    # values to decimal \n",
    "    power_val = [1, 2, 4, 8, 16, 32, 64, 128] \n",
    "   \n",
    "    val = 0\n",
    "      \n",
    "    for i in range(len(val_ar)): \n",
    "        val += val_ar[i] * np.power(2, i) \n",
    "          \n",
    "    return val "
   ]
  },
  {
   "cell_type": "code",
   "execution_count": null,
   "metadata": {},
   "outputs": [],
   "source": [
    "def LBP(img):\n",
    "    img_lbp = np.zeros((height, width), np.uint8) \n",
    "    for line in range(img.shape[0]):\n",
    "        for col in range(img.shape[1]):\n",
    "            img_lbp[line, col] = lbp_calculated_pixel(img, line, col)\n",
    "    "
   ]
  },
  {
   "cell_type": "code",
   "execution_count": 17,
   "metadata": {
    "tags": []
   },
   "outputs": [],
   "source": [
    "img = cv2.imread(\"e.png\")\n",
    "#print(img)\n",
    "#x = np.array([[6,7,6,6,7],[0,0,0,1,2],[1,1,1,2,3],[4,5,5,4,2],[6,6,6,7,7]],np.int32)\n",
    "#360x480\n",
    "resized_img = cv2.resize(img,(480,360))\n",
    "#print(x.shape)\n",
    "#z = bitPlaneSlicing(x,3)\n",
    "#print(z)\n",
    "\n",
    "b,g,r = cv2.split(resized_img)\n",
    "#cv2.imshow('B-RGB',b)\n",
    "#cv2.imshow('G-RGB',g)\n",
    "#cv2.imshow('R-RGB',r)"
   ]
  },
  {
   "cell_type": "code",
   "execution_count": 19,
   "metadata": {
    "tags": []
   },
   "outputs": [],
   "source": [
    "clahe = cv2.createCLAHE(clipLimit =2.0, tileGridSize=(8,8))\n",
    "cl_img = clahe.apply(r)\n",
    "#ret, otsu_cl_img = cv2.threshold(cl_img, 0, 255, cv2.THRESH_BINARY + cv2.THRESH_OTSU)\n",
    "\n",
    "slicedList = bitPlaneSlicing(cl_img,8)\n",
    "#print(slicedList)\n",
    "#cv2.imshow(\"Bit Plane \"+str(i), )\n",
    "finalr = cv2.hconcat([slicedList[7],slicedList[6],slicedList[5],slicedList[4]])\n",
    "finalv = cv2.hconcat([slicedList[3],slicedList[2],slicedList[1],slicedList[0]])\n",
    "final = cv2.vconcat([finalr,finalv])\n",
    "cv2.imshow(\"final\",final)\n",
    "#cv2.imshow(\"8to5img\",slicedList[7]+slicedList[6]+slicedList[5]+slicedList[4])\n",
    "#cv2.imshow(\"4to1img\",slicedList[3]+slicedList[2]+slicedList[1]+slicedList[0])\n",
    "#cv2.imshow(\"CL_IMG\",cl_img)\n",
    "#cv2.imshow('B-RGB',b)\n",
    "cv2.imshow('CLIMG',r)\n",
    "\n",
    "# waits for user to press any key \n",
    "# (this is necessary to avoid Python kernel form crashing) \n",
    "cv2.waitKey(0)\n",
    "# closing all open windows \n",
    "cv2.destroyAllWindows()"
   ]
  },
  {
   "cell_type": "code",
   "execution_count": null,
   "metadata": {},
   "outputs": [],
   "source": []
  }
 ]
}