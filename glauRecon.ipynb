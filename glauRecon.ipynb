{
 "metadata": {
  "language_info": {
   "codemirror_mode": {
    "name": "ipython",
    "version": 3
   },
   "file_extension": ".py",
   "mimetype": "text/x-python",
   "name": "python",
   "nbconvert_exporter": "python",
   "pygments_lexer": "ipython3",
   "version": "3.8.2-final"
  },
  "orig_nbformat": 2,
  "kernelspec": {
   "name": "python38232bitbfde1a24cd2949f9a984d96d50aac94c",
   "display_name": "Python 3.8.2 32-bit"
  }
 },
 "nbformat": 4,
 "nbformat_minor": 2,
 "cells": [
  {
   "cell_type": "code",
   "execution_count": 104,
   "metadata": {},
   "outputs": [],
   "source": [
    "import cv2\n",
    "import numpy as np\n",
    "from matplotlib import pyplot as plt"
   ]
  },
  {
   "cell_type": "code",
   "execution_count": 105,
   "metadata": {},
   "outputs": [],
   "source": [
    "def pixelToBin(img, width):\n",
    "    lst = []\n",
    "    for i in range(img.shape[0]):\n",
    "        for j in range(img.shape[1]):\n",
    "            lst.append(np.binary_repr(img[i][j] ,width=width)) # width = no. of bits\n",
    "    return lst"
   ]
  },
  {
   "cell_type": "code",
   "execution_count": 106,
   "metadata": {},
   "outputs": [],
   "source": [
    "def bitPlaneSlicing(img, width):\n",
    "    slicedList = []\n",
    "    lst = pixelToBin(img, width)\n",
    "    for planeNumber in range(width):\n",
    "        print(planeNumber, np.power(2,planeNumber))\n",
    "        slicedList.append( (np.array([int(i[width -planeNumber - 1]) for i in lst],dtype = np.uint8) * np.power(2,planeNumber)).reshape(img.shape[0],img.shape[1]) )\n",
    "    \n",
    "    return slicedList "
   ]
  },
  {
   "cell_type": "code",
   "execution_count": 107,
   "metadata": {},
   "outputs": [],
   "source": [
    "img = cv2.imread(\"rainbow.jpg\")\n",
    "b,g,r = cv2.split(img)\n",
    "#cv2.imshow('B-RGB',b)\n",
    "#cv2.imshow('G-RGB',g)\n",
    "#cv2.imshow('R-RGB',r)"
   ]
  },
  {
   "cell_type": "code",
   "execution_count": 103,
   "metadata": {
    "tags": []
   },
   "outputs": [
    {
     "output_type": "stream",
     "name": "stdout",
     "text": "0 1\n1 2\n2 4\n3 8\n4 16\n5 32\n6 64\n7 128\n"
    }
   ],
   "source": [
    "clahe = cv2.createCLAHE(clipLimit =2.0, tileGridSize=(8,8))\n",
    "cl_img = clahe.apply(r)\n",
    "\n",
    "slicedList = bitPlaneSlicing(cl_img,8)\n",
    "#cv2.imshow(\"Bit Plane \"+str(i), )\n",
    "finalr = cv2.hconcat([slicedList[7],slicedList[6],slicedList[5],slicedList[4]])\n",
    "finalv = cv2.hconcat([slicedList[3],slicedList[2],slicedList[1],slicedList[0]])\n",
    "final = cv2.vconcat([finalr,finalv])\n",
    "cv2.imshow(\"final\",final)\n",
    "cv2.imshow(\"8to5img\",slicedList[7]+slicedList[6]+slicedList[5]+slicedList[4])\n",
    "#cv2.imshow('B-RGB',b)\n",
    "#cv2.imshow('CLIMG',cl_img)\n",
    "\n",
    "# waits for user to press any key \n",
    "# (this is necessary to avoid Python kernel form crashing) \n",
    "cv2.waitKey(0)\n",
    "# closing all open windows \n",
    "cv2.destroyAllWindows()"
   ]
  },
  {
   "cell_type": "code",
   "execution_count": null,
   "metadata": {},
   "outputs": [],
   "source": []
  }
 ]
}